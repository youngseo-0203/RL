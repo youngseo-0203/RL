{
  "cells": [
    {
      "cell_type": "code",
      "execution_count": null,
      "metadata": {
        "id": "0zOhnc4HRV6G",
        "outputId": "3ee8fd6e-f253-4ee3-e6a6-9d5a8e33e344"
      },
      "outputs": [
        {
          "name": "stderr",
          "output_type": "stream",
          "text": [
            "[2022-12-10 19:23:26,171] Making new env: FrozenLake-v0\n"
          ]
        }
      ],
      "source": [
        "import numpy as np\n",
        "import gym\n",
        "import random\n",
        "import time\n",
        "from IPython.display import clear_output\n",
        "\n",
        "# FrozenLake-v0을 gym 환경에서 불러온다\n",
        "env = gym.make(\"FrozenLake-v0\")"
      ]
    },
    {
      "cell_type": "code",
      "execution_count": null,
      "metadata": {
        "id": "HPNBoQ1gRV6M"
      },
      "outputs": [],
      "source": [
        "action_space_size = env.action_space.n\n",
        "state_space_size = env.observation_space.n\n",
        "q_table = np.zeros((state_space_size, action_space_size))\n",
        " \n",
        "# Hyperparameter 설정\n",
        "num_episodes = 40000\n",
        "max_steps_per_episode = 1000\n",
        "learning_rate = 0.1\n",
        "discount_rate = 0.99\n",
        "\n",
        "rewards_all_episodes = []"
      ]
    },
    {
      "cell_type": "code",
      "execution_count": null,
      "metadata": {
        "id": "BqkQux4BRV6N"
      },
      "outputs": [],
      "source": [
        "def epsilonGreedyExplore(env, state, Q_table, e, episodes):\n",
        "    prob = 1 - e / episodes\n",
        "    if np.random.rand() < prob:\n",
        "        action = env.action_space.sample()\n",
        "    else:\n",
        "        action = np.argmax(Q_table[state, :])\n",
        "    return action"
      ]
    },
    {
      "cell_type": "code",
      "execution_count": null,
      "metadata": {
        "id": "XsMzETasRV6O"
      },
      "outputs": [],
      "source": [
        "def softmaxExplore(env, state, Q_table, tau=1):\n",
        "    num_action = env.action_space.n\n",
        "    action_prob = np.zeros(num_action)\n",
        "    denominator = np.sum(np.exp(Q_table[state, :] / tau))\n",
        "\n",
        "    for a in range(num_action):\n",
        "        action_prob[a] = np.exp(Q_table[state, a] / tau) / denominator\n",
        "    action = np.random.choice([0, 1, 2, 3], 1, p=action_prob)[0]\n",
        "    return action"
      ]
    },
    {
      "cell_type": "code",
      "execution_count": null,
      "metadata": {
        "id": "wv5YbTLBRV6P"
      },
      "outputs": [],
      "source": [
        "# Q-learning 학습\n",
        "\n",
        "# Epsilon-Greedy 탐색 시\n",
        "strategy = \"epsilon-greedy\"\n",
        "\n",
        "for episode in range(num_episodes):\n",
        "    # 새로운 에피소드 초기화\n",
        "    state = env.reset()\n",
        "    done = False\n",
        "    rewards_current_episode = 0\n",
        "    for step in range(max_steps_per_episode):\n",
        "\n",
        "        if strategy == \"epsilon-greedy\":\n",
        "            action = epsilonGreedyExplore(env, state, q_table, episode, num_episodes)\n",
        "        else:\n",
        "            action = softmaxExplore(env, state, q_table)\n",
        "\n",
        "        new_state, reward, done, info = env.step(action)\n",
        "        \n",
        "        q_table[state, action] = q_table[state, action] * (1 - learning_rate) + learning_rate * (reward + discount_rate * np.max(q_table[new_state, :]))\n",
        "\n",
        "        state = new_state\n",
        "        rewards_current_episode += reward\n",
        "\n",
        "        if done == True:\n",
        "            break\n",
        "    rewards_all_episodes.append(rewards_current_episode)"
      ]
    },
    {
      "cell_type": "code",
      "execution_count": null,
      "metadata": {
        "id": "OtdYN0OiRV6Q",
        "outputId": "169fef33-ec11-467c-f3df-272d8f4afade"
      },
      "outputs": [
        {
          "name": "stdout",
          "output_type": "stream",
          "text": [
            "********2000 에피소드당 평균 reward ********\n",
            "\n",
            "2000 :  0.010500000000000006\n",
            "4000 :  0.017500000000000012\n",
            "6000 :  0.020000000000000014\n",
            "8000 :  0.022500000000000017\n",
            "10000 :  0.02650000000000002\n",
            "12000 :  0.03150000000000002\n",
            "14000 :  0.036500000000000025\n",
            "16000 :  0.03800000000000003\n",
            "18000 :  0.059500000000000046\n",
            "20000 :  0.058500000000000045\n",
            "22000 :  0.07900000000000006\n",
            "24000 :  0.08700000000000006\n",
            "26000 :  0.11600000000000009\n",
            "28000 :  0.1285000000000001\n",
            "30000 :  0.16400000000000012\n",
            "32000 :  0.21750000000000017\n",
            "34000 :  0.2815000000000002\n",
            "36000 :  0.35150000000000026\n",
            "38000 :  0.4870000000000004\n",
            "40000 :  0.6889999999999795\n",
            "\n",
            "\n",
            "********Q_table********\n",
            "\n",
            "[[0.59070313 0.50460526 0.50430182 0.51733545]\n",
            " [0.32129499 0.36567694 0.3491045  0.53906892]\n",
            " [0.43045316 0.42297028 0.42517377 0.50209038]\n",
            " [0.34671855 0.26705765 0.33973301 0.48150242]\n",
            " [0.61953063 0.34601448 0.33415734 0.3617573 ]\n",
            " [0.         0.         0.         0.        ]\n",
            " [0.3460861  0.1889122  0.20133815 0.16331143]\n",
            " [0.         0.         0.         0.        ]\n",
            " [0.44522628 0.38675721 0.35761246 0.67453607]\n",
            " [0.53683042 0.72957803 0.5127267  0.4601079 ]\n",
            " [0.79941844 0.38664311 0.38008935 0.2862366 ]\n",
            " [0.         0.         0.         0.        ]\n",
            " [0.         0.         0.         0.        ]\n",
            " [0.27900496 0.53654512 0.81024124 0.34775227]\n",
            " [0.72769942 0.8755465  0.73007311 0.73371079]\n",
            " [0.         0.         0.         0.        ]]\n"
          ]
        }
      ],
      "source": [
        "# 2000번의 에피소드당 평균 성공 확률\n",
        "rewards_per_thousand_episodes = np.split(np.array(rewards_all_episodes), num_episodes/2000)\n",
        "count = 2000\n",
        " \n",
        "print(\"********2000 에피소드당 평균 reward ********\\n\")\n",
        "for r in rewards_per_thousand_episodes:\n",
        "    print(count, \": \", str(sum(r/2000)))\n",
        "    count += 2000\n",
        " \n",
        "# 업데이트된 q_table을 출력\n",
        "print(\"\\n\\n********Q_table********\\n\")\n",
        "print(q_table)"
      ]
    },
    {
      "cell_type": "code",
      "execution_count": null,
      "metadata": {
        "id": "N4xY53vERV6Q",
        "outputId": "ea41f9b7-c311-405c-ecfa-951bfb933208"
      },
      "outputs": [
        {
          "name": "stdout",
          "output_type": "stream",
          "text": [
            "SFFF\n",
            "FHFH\n",
            "FFFH\n",
            "HF\u001b[41mF\u001b[0mG\n",
            "  (Down)\n",
            "****목표에 도달하였습니다.!****\n"
          ]
        }
      ],
      "source": [
        "for episode in range(3):\n",
        "    # 각 에피소드의 변수를 초기화한다.\n",
        "    state = env.reset()\n",
        "    done = False\n",
        "    print(\"*****에피소드 \", episode+1, \"*****\\n\\n\\n\\n\")\n",
        "    time.sleep(1)\n",
        "    for step in range(max_steps_per_episode):\n",
        "        # 현재 상태를 그려 본다.\n",
        "        clear_output(wait=True)\n",
        "        env.render()\n",
        "        time.sleep(0.3)\n",
        "        # 현재 상태에서의 q값(보상)이 가장 큰 action을 취한다.\n",
        "        action = np.argmax(q_table[state, :]) \n",
        "        # 새로운 action을 취한다\n",
        "        new_state, reward, done, info = env.step(action)\n",
        "        if done:\n",
        "            if reward == 1:\n",
        "                # 만약에 Goal에 도착하여 reward가 1이라면\n",
        "                print(\"****목표에 도달하였습니다.!****\")\n",
        "                time.sleep(3)\n",
        "            else:\n",
        "                # Goal에 도달하지 못했다면\n",
        "                print(\"****Hole에 빠지고 말았습니다.****\")\n",
        "                time.sleep(3)\n",
        "                clear_output(wait=True)            \n",
        "            break\n",
        "        \n",
        "        # 새로운 상태를 설정한다.\n",
        "        state = new_state\n",
        "env.close()\n",
        "\n"
      ]
    },
    {
      "cell_type": "code",
      "execution_count": null,
      "metadata": {
        "id": "zZg7RCdkRV6R"
      },
      "outputs": [],
      "source": [
        "# 볼츠만(소프트맥스) 탐색 시\n",
        "strategy = \"softmax\"\n",
        "\n",
        "# Q-learning 학습\n",
        "for episode in range(num_episodes):\n",
        "    # 새로운 에피소드 초기화\n",
        "    state = env.reset()\n",
        "    done = False\n",
        "    rewards_current_episode = 0\n",
        "    for step in range(max_steps_per_episode):\n",
        "\n",
        "        if strategy == \"epsilon-greedy\":\n",
        "            action = epsilonGreedyExplore(env, state, q_table, episode, num_episodes)\n",
        "        else:\n",
        "            action = softmaxExplore(env, state, q_table)\n",
        "\n",
        "        new_state, reward, done, info = env.step(action)\n",
        "        \n",
        "        q_table[state, action] = q_table[state, action] * (1 - learning_rate) + learning_rate * (reward + discount_rate * np.max(q_table[new_state, :]))\n",
        "\n",
        "        state = new_state\n",
        "        rewards_current_episode += reward\n",
        "\n",
        "        if done == True:\n",
        "            break\n",
        "    rewards_all_episodes.append(rewards_current_episode)"
      ]
    },
    {
      "cell_type": "code",
      "execution_count": null,
      "metadata": {
        "id": "TbrO0MlJRV6S",
        "outputId": "4b049017-97c4-4068-ba6a-c054262aaa51"
      },
      "outputs": [
        {
          "name": "stdout",
          "output_type": "stream",
          "text": [
            "********2000 에피소드당 평균 reward ********\n",
            "\n",
            "2000 :  0.02800000000000002\n",
            "4000 :  0.04250000000000003\n",
            "6000 :  0.058000000000000045\n",
            "8000 :  0.07450000000000005\n",
            "10000 :  0.11800000000000009\n",
            "12000 :  0.16600000000000012\n",
            "14000 :  0.2445000000000002\n",
            "16000 :  0.3815000000000003\n",
            "18000 :  0.6329999999999857\n",
            "20000 :  1.175999999999926\n",
            "22000 :  0.029500000000000023\n",
            "24000 :  0.03800000000000003\n",
            "26000 :  0.03800000000000003\n",
            "28000 :  0.035000000000000024\n",
            "30000 :  0.034500000000000024\n",
            "32000 :  0.03250000000000002\n",
            "34000 :  0.03250000000000002\n",
            "36000 :  0.03250000000000002\n",
            "38000 :  0.036000000000000025\n",
            "40000 :  0.030000000000000023\n",
            "\n",
            "\n",
            "********Q_table********\n",
            "\n",
            "[[0.51838264 0.50742959 0.50058661 0.50763382]\n",
            " [0.3697972  0.39201139 0.39756126 0.48278307]\n",
            " [0.3826824  0.41068956 0.42866755 0.47025703]\n",
            " [0.31325793 0.28265121 0.23765821 0.46123478]\n",
            " [0.53721901 0.36603718 0.28263476 0.40060473]\n",
            " [0.         0.         0.         0.        ]\n",
            " [0.29244727 0.15964546 0.24865934 0.0527394 ]\n",
            " [0.         0.         0.         0.        ]\n",
            " [0.39512146 0.39239435 0.3113669  0.58591675]\n",
            " [0.47318278 0.65526722 0.47367859 0.51835807]\n",
            " [0.70221601 0.42234184 0.32607038 0.24442159]\n",
            " [0.         0.         0.         0.        ]\n",
            " [0.         0.         0.         0.        ]\n",
            " [0.39830295 0.44737003 0.74190548 0.40894598]\n",
            " [0.74382131 0.90502761 0.77193931 0.79216435]\n",
            " [0.         0.         0.         0.        ]]\n"
          ]
        }
      ],
      "source": [
        "# 2000번의 에피소드당 평균 성공 확률\n",
        "rewards_per_thousand_episodes = np.split(np.array(rewards_all_episodes), num_episodes/2000)\n",
        "count = 2000\n",
        " \n",
        "print(\"********2000 에피소드당 평균 reward ********\\n\")\n",
        "for r in rewards_per_thousand_episodes:\n",
        "    print(count, \": \", str(sum(r/2000)))\n",
        "    count += 2000\n",
        " \n",
        "# 업데이트된 q_table을 출력\n",
        "print(\"\\n\\n********Q_table********\\n\")\n",
        "print(q_table)"
      ]
    },
    {
      "cell_type": "code",
      "execution_count": null,
      "metadata": {
        "id": "Gzz5SPRJRV6T",
        "outputId": "f5680d4f-b66c-4921-b9f3-c01b91ac4b42"
      },
      "outputs": [
        {
          "name": "stdout",
          "output_type": "stream",
          "text": [
            "SFFF\n",
            "FHFH\n",
            "FFFH\n",
            "HF\u001b[41mF\u001b[0mG\n",
            "  (Right)\n",
            "****목표에 도달하였습니다.!****\n"
          ]
        }
      ],
      "source": [
        "for episode in range(3):\n",
        "    # 각 에피소드의 변수를 초기화한다\n",
        "    state = env.reset()\n",
        "    done = False\n",
        "    print(\"*****에피소드 \", episode+1, \"*****\\n\\n\\n\\n\")\n",
        "    time.sleep(1)\n",
        "    for step in range(max_steps_per_episode):\n",
        "        # 현재 상태를 그려 본다.\n",
        "        clear_output(wait=True)\n",
        "        env.render()\n",
        "        time.sleep(0.3)\n",
        "        # 현재 상태에서의 q값(보상)이 가장 큰 action을 취한다.\n",
        "        action = np.argmax(q_table[state, :]) \n",
        "        # 새로운 action을 취한다\n",
        "        new_state, reward, done, info = env.step(action)\n",
        "        if done:\n",
        "            if reward == 1:\n",
        "                # 만약에 Goal에 도착하여 reward가 1이라면\n",
        "                print(\"****목표에 도달하였습니다.!****\")\n",
        "                time.sleep(3)\n",
        "            else:\n",
        "                # Goal에 도달하지 못했다면\n",
        "                print(\"****Hole에 빠지고 말았습니다.****\")\n",
        "                time.sleep(3)\n",
        "                clear_output(wait=True)            \n",
        "            break\n",
        "        \n",
        "        # 새로운 상태를 설정한다.\n",
        "        state = new_state\n",
        "env.close()"
      ]
    },
    {
      "cell_type": "code",
      "source": [],
      "metadata": {
        "id": "xvGr1Dcqb6c9"
      },
      "execution_count": null,
      "outputs": []
    },
    {
      "cell_type": "code",
      "source": [],
      "metadata": {
        "id": "jMJvI6RUb6xQ"
      },
      "execution_count": null,
      "outputs": []
    },
    {
      "cell_type": "code",
      "execution_count": null,
      "metadata": {
        "id": "lTvaYktjRV6T"
      },
      "outputs": [],
      "source": []
    }
  ],
  "metadata": {
    "kernelspec": {
      "display_name": "Python 3",
      "language": "python",
      "name": "python3"
    },
    "language_info": {
      "codemirror_mode": {
        "name": "ipython",
        "version": 3
      },
      "file_extension": ".py",
      "mimetype": "text/x-python",
      "name": "python",
      "nbconvert_exporter": "python",
      "pygments_lexer": "ipython3",
      "version": "3.8.5"
    },
    "vscode": {
      "interpreter": {
        "hash": "2736e1be43f030ba53e6d2ad28feb67cb28b239370d41d05d06d2635ceb2dfea"
      }
    },
    "colab": {
      "provenance": []
    }
  },
  "nbformat": 4,
  "nbformat_minor": 0
}